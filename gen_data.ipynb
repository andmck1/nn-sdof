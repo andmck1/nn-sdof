{
 "cells": [
  {
   "cell_type": "code",
   "execution_count": 1,
   "metadata": {
    "cell_style": "center"
   },
   "outputs": [],
   "source": [
    "from get_data import newmann_beta\n",
    "import numpy as np\n",
    "import pickle"
   ]
  },
  {
   "cell_type": "code",
   "execution_count": 2,
   "metadata": {
    "cell_style": "center"
   },
   "outputs": [],
   "source": [
    "time_steps = 1660000\n",
    "\n",
    "m = 1.0\n",
    "k = 200\n",
    "c = 1.5\n",
    "dt = 1/200\n",
    "f = 2.0 * (np.random.rand(time_steps) - 0.5)"
   ]
  },
  {
   "cell_type": "code",
   "execution_count": 3,
   "metadata": {
    "cell_style": "center"
   },
   "outputs": [],
   "source": [
    "gen_data = newmann_beta(m, c, k, dt, f, time_steps).rename({'dis': 'disp'}, axis=1)"
   ]
  },
  {
   "cell_type": "code",
   "execution_count": 4,
   "metadata": {},
   "outputs": [],
   "source": [
    "for noise in np.arange(0.1, 0.9, 0.1):\n",
    "    col_name = 'acc_' + str(int(noise*100)) + 'noise'\n",
    "    gen_data[col_name] = gen_data['acc'] + np.random.normal(scale=noise*gen_data['acc'].std(), size=len(f))"
   ]
  },
  {
   "cell_type": "code",
   "execution_count": 5,
   "metadata": {
    "cell_style": "center"
   },
   "outputs": [],
   "source": [
    "for col in gen_data.columns:\n",
    "    mean = gen_data[col].mean()\n",
    "    minimum = gen_data[col].min()\n",
    "    maximum = gen_data[col].max()\n",
    "    gen_data[col] = (gen_data[col]-mean)/(maximum - minimum)\n",
    "    gen_data[col] = gen_data[col] / 2.0 + 0.5"
   ]
  },
  {
   "cell_type": "code",
   "execution_count": 6,
   "metadata": {},
   "outputs": [],
   "source": [
    "pickle.dump(gen_data, open('data/data.pkl', 'wb'))"
   ]
  },
  {
   "cell_type": "code",
   "execution_count": 7,
   "metadata": {},
   "outputs": [
    {
     "data": {
      "text/html": [
       "<div>\n",
       "<style scoped>\n",
       "    .dataframe tbody tr th:only-of-type {\n",
       "        vertical-align: middle;\n",
       "    }\n",
       "\n",
       "    .dataframe tbody tr th {\n",
       "        vertical-align: top;\n",
       "    }\n",
       "\n",
       "    .dataframe thead th {\n",
       "        text-align: right;\n",
       "    }\n",
       "</style>\n",
       "<table border=\"1\" class=\"dataframe\">\n",
       "  <thead>\n",
       "    <tr style=\"text-align: right;\">\n",
       "      <th></th>\n",
       "      <th>exc</th>\n",
       "      <th>disp</th>\n",
       "      <th>vel</th>\n",
       "      <th>acc</th>\n",
       "      <th>acc_10noise</th>\n",
       "      <th>acc_20noise</th>\n",
       "      <th>acc_30noise</th>\n",
       "      <th>acc_40noise</th>\n",
       "      <th>acc_50noise</th>\n",
       "      <th>acc_60noise</th>\n",
       "      <th>acc_70noise</th>\n",
       "      <th>acc_80noise</th>\n",
       "    </tr>\n",
       "  </thead>\n",
       "  <tbody>\n",
       "    <tr>\n",
       "      <th>0</th>\n",
       "      <td>0.467867</td>\n",
       "      <td>0.500125</td>\n",
       "      <td>0.500001</td>\n",
       "      <td>0.486605</td>\n",
       "      <td>0.482089</td>\n",
       "      <td>0.478324</td>\n",
       "      <td>0.517035</td>\n",
       "      <td>0.509653</td>\n",
       "      <td>0.486427</td>\n",
       "      <td>0.484750</td>\n",
       "      <td>0.465021</td>\n",
       "      <td>0.477045</td>\n",
       "    </tr>\n",
       "    <tr>\n",
       "      <th>1</th>\n",
       "      <td>0.402332</td>\n",
       "      <td>0.500034</td>\n",
       "      <td>0.497039</td>\n",
       "      <td>0.459701</td>\n",
       "      <td>0.456039</td>\n",
       "      <td>0.452405</td>\n",
       "      <td>0.414287</td>\n",
       "      <td>0.483929</td>\n",
       "      <td>0.463644</td>\n",
       "      <td>0.461458</td>\n",
       "      <td>0.442487</td>\n",
       "      <td>0.443925</td>\n",
       "    </tr>\n",
       "    <tr>\n",
       "      <th>2</th>\n",
       "      <td>0.692249</td>\n",
       "      <td>0.499815</td>\n",
       "      <td>0.499221</td>\n",
       "      <td>0.579846</td>\n",
       "      <td>0.575360</td>\n",
       "      <td>0.589919</td>\n",
       "      <td>0.560321</td>\n",
       "      <td>0.550053</td>\n",
       "      <td>0.572857</td>\n",
       "      <td>0.532806</td>\n",
       "      <td>0.519771</td>\n",
       "      <td>0.599758</td>\n",
       "    </tr>\n",
       "    <tr>\n",
       "      <th>3</th>\n",
       "      <td>0.683740</td>\n",
       "      <td>0.500076</td>\n",
       "      <td>0.507794</td>\n",
       "      <td>0.575576</td>\n",
       "      <td>0.578289</td>\n",
       "      <td>0.577169</td>\n",
       "      <td>0.547588</td>\n",
       "      <td>0.516367</td>\n",
       "      <td>0.581585</td>\n",
       "      <td>0.530830</td>\n",
       "      <td>0.570797</td>\n",
       "      <td>0.582342</td>\n",
       "    </tr>\n",
       "    <tr>\n",
       "      <th>4</th>\n",
       "      <td>0.394908</td>\n",
       "      <td>0.500795</td>\n",
       "      <td>0.509498</td>\n",
       "      <td>0.455310</td>\n",
       "      <td>0.458205</td>\n",
       "      <td>0.449153</td>\n",
       "      <td>0.475186</td>\n",
       "      <td>0.412427</td>\n",
       "      <td>0.445570</td>\n",
       "      <td>0.446549</td>\n",
       "      <td>0.502998</td>\n",
       "      <td>0.439311</td>\n",
       "    </tr>\n",
       "  </tbody>\n",
       "</table>\n",
       "</div>"
      ],
      "text/plain": [
       "        exc      disp       vel       acc  acc_10noise  acc_20noise  \\\n",
       "0  0.467867  0.500125  0.500001  0.486605     0.482089     0.478324   \n",
       "1  0.402332  0.500034  0.497039  0.459701     0.456039     0.452405   \n",
       "2  0.692249  0.499815  0.499221  0.579846     0.575360     0.589919   \n",
       "3  0.683740  0.500076  0.507794  0.575576     0.578289     0.577169   \n",
       "4  0.394908  0.500795  0.509498  0.455310     0.458205     0.449153   \n",
       "\n",
       "   acc_30noise  acc_40noise  acc_50noise  acc_60noise  acc_70noise  \\\n",
       "0     0.517035     0.509653     0.486427     0.484750     0.465021   \n",
       "1     0.414287     0.483929     0.463644     0.461458     0.442487   \n",
       "2     0.560321     0.550053     0.572857     0.532806     0.519771   \n",
       "3     0.547588     0.516367     0.581585     0.530830     0.570797   \n",
       "4     0.475186     0.412427     0.445570     0.446549     0.502998   \n",
       "\n",
       "   acc_80noise  \n",
       "0     0.477045  \n",
       "1     0.443925  \n",
       "2     0.599758  \n",
       "3     0.582342  \n",
       "4     0.439311  "
      ]
     },
     "execution_count": 7,
     "metadata": {},
     "output_type": "execute_result"
    }
   ],
   "source": [
    "gen_data.head()"
   ]
  },
  {
   "cell_type": "code",
   "execution_count": null,
   "metadata": {},
   "outputs": [],
   "source": []
  }
 ],
 "metadata": {
  "kernelspec": {
   "display_name": "nn-sdof",
   "language": "python",
   "name": "nn-sdof"
  },
  "language_info": {
   "codemirror_mode": {
    "name": "ipython",
    "version": 3
   },
   "file_extension": ".py",
   "mimetype": "text/x-python",
   "name": "python",
   "nbconvert_exporter": "python",
   "pygments_lexer": "ipython3",
   "version": "3.8.2"
  },
  "varInspector": {
   "cols": {
    "lenName": 16,
    "lenType": 16,
    "lenVar": 40
   },
   "kernels_config": {
    "python": {
     "delete_cmd_postfix": "",
     "delete_cmd_prefix": "del ",
     "library": "var_list.py",
     "varRefreshCmd": "print(var_dic_list())"
    },
    "r": {
     "delete_cmd_postfix": ") ",
     "delete_cmd_prefix": "rm(",
     "library": "var_list.r",
     "varRefreshCmd": "cat(var_dic_list()) "
    }
   },
   "types_to_exclude": [
    "module",
    "function",
    "builtin_function_or_method",
    "instance",
    "_Feature"
   ],
   "window_display": false
  }
 },
 "nbformat": 4,
 "nbformat_minor": 4
}
