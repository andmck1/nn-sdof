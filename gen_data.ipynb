{
 "cells": [
  {
   "cell_type": "code",
   "execution_count": 15,
   "metadata": {
    "cell_style": "center"
   },
   "outputs": [],
   "source": [
    "from get_data import newmann_beta\n",
    "import numpy as np\n",
    "import pickle"
   ]
  },
  {
   "cell_type": "code",
   "execution_count": 2,
   "metadata": {
    "cell_style": "center"
   },
   "outputs": [],
   "source": [
    "time_steps = 1660000\n",
    "\n",
    "m = 1.0\n",
    "k = 200\n",
    "c = 1.5\n",
    "dt = 1/200\n",
    "f = 2.0 * (np.random.rand(time_steps) - 0.5)"
   ]
  },
  {
   "cell_type": "code",
   "execution_count": 11,
   "metadata": {
    "cell_style": "center"
   },
   "outputs": [],
   "source": [
    "gen_data = newmann_beta(m, c, k, dt, f, time_steps).rename({'dis': 'disp'}, axis=1)"
   ]
  },
  {
   "cell_type": "code",
   "execution_count": 12,
   "metadata": {},
   "outputs": [],
   "source": [
    "for noise in np.arange(0.1, 0.9, 0.1):\n",
    "    col_name = 'acc_' + str(int(noise*100)) + 'noise'\n",
    "    gen_data[col_name] = gen_data['acc'] + np.random.normal(scale=noise*gen_data['acc'].std(), size=len(f))"
   ]
  },
  {
   "cell_type": "code",
   "execution_count": 14,
   "metadata": {
    "cell_style": "center"
   },
   "outputs": [],
   "source": [
    "for col in gen_data.columns:\n",
    "    mean = gen_data[col].mean()\n",
    "    minimum = gen_data[col].min()\n",
    "    maximum = gen_data[col].max()\n",
    "    gen_data[col] = (gen_data[col]-mean)/(maximum - minimum)\n",
    "    gen_data[col] = gen_data[col] / 2.0 + 0.5"
   ]
  },
  {
   "cell_type": "code",
   "execution_count": 17,
   "metadata": {},
   "outputs": [],
   "source": [
    "pickle.dump(gen_data, open('data/data.pkl', 'wb'))"
   ]
  },
  {
   "cell_type": "code",
   "execution_count": null,
   "metadata": {},
   "outputs": [],
   "source": []
  }
 ],
 "metadata": {
  "kernelspec": {
   "display_name": "nnsdof",
   "language": "python",
   "name": "nnsdof"
  },
  "language_info": {
   "codemirror_mode": {
    "name": "ipython",
    "version": 3
   },
   "file_extension": ".py",
   "mimetype": "text/x-python",
   "name": "python",
   "nbconvert_exporter": "python",
   "pygments_lexer": "ipython3",
   "version": "3.6.7"
  },
  "varInspector": {
   "cols": {
    "lenName": 16,
    "lenType": 16,
    "lenVar": 40
   },
   "kernels_config": {
    "python": {
     "delete_cmd_postfix": "",
     "delete_cmd_prefix": "del ",
     "library": "var_list.py",
     "varRefreshCmd": "print(var_dic_list())"
    },
    "r": {
     "delete_cmd_postfix": ") ",
     "delete_cmd_prefix": "rm(",
     "library": "var_list.r",
     "varRefreshCmd": "cat(var_dic_list()) "
    }
   },
   "types_to_exclude": [
    "module",
    "function",
    "builtin_function_or_method",
    "instance",
    "_Feature"
   ],
   "window_display": false
  }
 },
 "nbformat": 4,
 "nbformat_minor": 2
}
