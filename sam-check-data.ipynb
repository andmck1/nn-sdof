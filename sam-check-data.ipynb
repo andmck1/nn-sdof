{
 "cells": [
  {
   "cell_type": "code",
   "execution_count": 2,
   "id": "4afe2cb6-32e8-4b94-a5e3-ce470f49daa0",
   "metadata": {},
   "outputs": [],
   "source": [
    "import pandas as pd\n",
    "import numpy as np\n",
    "from pathlib import Path"
   ]
  },
  {
   "cell_type": "code",
   "execution_count": 3,
   "id": "fcdde2bf-7b27-4e7d-814f-90cfcaa7a585",
   "metadata": {},
   "outputs": [],
   "source": [
    "data_pth = Path('./data/sam')"
   ]
  },
  {
   "cell_type": "code",
   "execution_count": 13,
   "id": "fcb19719-8e52-459e-a3a9-dd80cc55645d",
   "metadata": {},
   "outputs": [],
   "source": [
    "t = [x for x in data_pth.iterdir()]"
   ]
  },
  {
   "cell_type": "code",
   "execution_count": 14,
   "id": "97b807d5-1606-4517-b239-18e4a95f8868",
   "metadata": {},
   "outputs": [
    {
     "data": {
      "text/plain": [
       "[PosixPath('data/sam/n5.csv'),\n",
       " PosixPath('data/sam/targetsample.csv'),\n",
       " PosixPath('data/sam/n2.csv'),\n",
       " PosixPath('data/sam/n3.csv'),\n",
       " PosixPath('data/sam/n1.csv'),\n",
       " PosixPath('data/sam/n0.csv'),\n",
       " PosixPath('data/sam/n20.csv'),\n",
       " PosixPath('data/sam/n30.csv'),\n",
       " PosixPath('data/sam/X_train.csv'),\n",
       " PosixPath('data/sam/n10.csv'),\n",
       " PosixPath('data/sam/Y_train.csv')]"
      ]
     },
     "execution_count": 14,
     "metadata": {},
     "output_type": "execute_result"
    }
   ],
   "source": [
    "t"
   ]
  },
  {
   "cell_type": "code",
   "execution_count": 15,
   "id": "852c5be8-85fc-469c-9324-7eb6a8290dcd",
   "metadata": {},
   "outputs": [],
   "source": [
    "all_df = []\n",
    "for fname in data_pth.iterdir():\n",
    "    if fname.stem.startswith('n'):\n",
    "        noise_amount = ''.join([ch for ch in fname.stem if ch != 'n'])\n",
    "        s = pd.read_csv(fname, header=None, names=[f'exc_{noise_amount}noise'])\n",
    "    if fname.stem == 'X_train':\n",
    "        s = pd.read_csv(fname, header=None, names=[f'exc'])\n",
    "    if fname.stem == 'Y_train':\n",
    "        s = pd.read_csv(fname, header=None, names=[f'acc'])\n",
    "    if fname.stem == 'targetsample':\n",
    "        s = pd.read_csv(fname, header=None, names=[f'acc_test'])\n",
    "    \n",
    "    all_df.append(s)\n",
    "df = pd.concat(all_df, axis=1)"
   ]
  },
  {
   "cell_type": "code",
   "execution_count": 20,
   "id": "f0bb6d88-5084-468a-bfef-af874471caf7",
   "metadata": {},
   "outputs": [],
   "source": [
    "# Dropping the last one as there's only one value (acc_test = 'targetsample')\n",
    "df = df.iloc[:-1]"
   ]
  },
  {
   "cell_type": "code",
   "execution_count": 22,
   "id": "514c85b0-90ed-401d-88a4-fbfbda609371",
   "metadata": {},
   "outputs": [],
   "source": [
    "df.to_pickle(data_pth/'joined_data.pkl')"
   ]
  },
  {
   "cell_type": "code",
   "execution_count": null,
   "id": "f706f6d2-ea6e-4735-821e-00b4720b0490",
   "metadata": {},
   "outputs": [],
   "source": []
  }
 ],
 "metadata": {
  "kernelspec": {
   "display_name": "nn-sdof",
   "language": "python",
   "name": "nn-sdof"
  },
  "language_info": {
   "codemirror_mode": {
    "name": "ipython",
    "version": 3
   },
   "file_extension": ".py",
   "mimetype": "text/x-python",
   "name": "python",
   "nbconvert_exporter": "python",
   "pygments_lexer": "ipython3",
   "version": "3.8.2"
  }
 },
 "nbformat": 4,
 "nbformat_minor": 5
}
