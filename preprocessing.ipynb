{
 "cells": [
  {
   "cell_type": "markdown",
   "metadata": {},
   "source": [
    "## Imports"
   ]
  },
  {
   "cell_type": "code",
   "execution_count": 1,
   "metadata": {},
   "outputs": [],
   "source": [
    "import pickle\n",
    "import pathlib as pl"
   ]
  },
  {
   "cell_type": "code",
   "execution_count": 2,
   "metadata": {},
   "outputs": [],
   "source": [
    "import numpy as np\n",
    "import pandas as pd"
   ]
  },
  {
   "cell_type": "markdown",
   "metadata": {},
   "source": [
    "## Functions"
   ]
  },
  {
   "cell_type": "code",
   "execution_count": 3,
   "metadata": {},
   "outputs": [],
   "source": [
    "def walk_forward(df, x_labels, y_labels, n, n_input_labels, \n",
    "                 split_per=None, split_data=False, y_offset=0):\n",
    "    \n",
    "    td_shape = df.shape\n",
    "    td_l = td_shape[0]\n",
    "    \n",
    "    x_indices = [range(i, i+n) for i in range(td_l-n)]\n",
    "    y_indices = [range(i+y_offset, i+n) for i in range(td_l-n)]\n",
    "    \n",
    "    x = df.loc[:, x_labels].values[x_indices]\n",
    "    y = df.loc[:, y_labels].values[y_indices]\n",
    "    \n",
    "    if split_data:\n",
    "        split_index = int(len(x)*split_per)\n",
    "        x = x.reshape(-1, n, n_input_labels, 1)\n",
    "        y = y.reshape(-1, n-y_offset)\n",
    "        X_train, X_test, y_train, y_test = (x[:split_index], x[split_index:], y[:split_index], y[split_index:])\n",
    "        return X_train, X_test, y_train, y_test\n",
    "    \n",
    "    return x, y"
   ]
  },
  {
   "cell_type": "code",
   "execution_count": 5,
   "metadata": {},
   "outputs": [],
   "source": [
    "def batch_sequence_split(df, x_labels, y_labels, n, n_input_labels, split_index):\n",
    "    \n",
    "    X_train = df[x_labels].iloc[:split_index].values.reshape(-1, n, n_input_labels, 1)\n",
    "    X_test = df[x_labels].iloc[split_index:].values.reshape(-1, n, n_input_labels, 1)\n",
    "    y_train = df[y_labels].iloc[:split_index].values.reshape(-1, n)\n",
    "    y_test = df[y_labels].iloc[split_index:].values.reshape(-1, n)\n",
    "    \n",
    "    return X_train, X_test, y_train, y_test"
   ]
  },
  {
   "cell_type": "code",
   "execution_count": 20,
   "metadata": {},
   "outputs": [],
   "source": [
    "def offset_acceleration(df, n=100):\n",
    "    acc_cols = [x for x in df.columns if 'acc' in x]\n",
    "    delayed_acc = df[acc_cols][:len(df)-n]\n",
    "    delayed_acc = delayed_acc.rename({old:(old + '_delayed') for old in acc_cols}, axis=1)\n",
    "    return df.iloc[n:, :].reset_index(drop=True).join(delayed_acc)"
   ]
  },
  {
   "cell_type": "markdown",
   "metadata": {},
   "source": [
    "## Get Data"
   ]
  },
  {
   "cell_type": "code",
   "execution_count": 6,
   "metadata": {},
   "outputs": [],
   "source": [
    "data = pickle.load(open('./data/data.pkl', 'rb'))"
   ]
  },
  {
   "cell_type": "markdown",
   "metadata": {},
   "source": [
    "## Preprocess"
   ]
  },
  {
   "cell_type": "code",
   "execution_count": 23,
   "metadata": {},
   "outputs": [],
   "source": [
    "preproc_data = data.iloc[:100000, :]\n",
    "preproc_data = offset_acceleration(preproc_data)"
   ]
  },
  {
   "cell_type": "code",
   "execution_count": 28,
   "metadata": {},
   "outputs": [],
   "source": [
    "# Some config parameters\n",
    "data_shape = preproc_data.shape\n",
    "td_l = data_shape[0]\n",
    "\n",
    "x_labels = ['exc', 'del_acc']\n",
    "y_labels = ['acc']\n",
    "\n",
    "n = 100\n",
    "n_input_labels = len(x_labels)\n",
    "y_offset = 1\n",
    "train_percentage = 0.7\n",
    "length_train_data = len(data_shape)\n",
    "split_index = int(length_train_data*train_percentage)"
   ]
  },
  {
   "cell_type": "code",
   "execution_count": 29,
   "metadata": {},
   "outputs": [
    {
     "name": "stderr",
     "output_type": "stream",
     "text": [
      "/home/alastair/Documents/Development/ds/nn-sdof/venv/nnsdof/lib/python3.6/site-packages/pandas/core/indexing.py:1494: FutureWarning: \n",
      "Passing list-likes to .loc or [] with any missing label will raise\n",
      "KeyError in the future, you can use .reindex() as an alternative.\n",
      "\n",
      "See the documentation here:\n",
      "https://pandas.pydata.org/pandas-docs/stable/indexing.html#deprecate-loc-reindex-listlike\n",
      "  return self._getitem_tuple(key)\n"
     ]
    }
   ],
   "source": [
    "X_train, X_test, y_train, y_test = walk_forward(preproc_data, \n",
    "                                                x_labels, y_labels, \n",
    "                                                n, n_input_labels, y_offset=y_offset,\n",
    "                                                split_per=0.7, split_data=True)"
   ]
  },
  {
   "cell_type": "code",
   "execution_count": 30,
   "metadata": {},
   "outputs": [],
   "source": [
    "pickle.dump(X_train, open('./data/X_train.pkl', 'wb'))\n",
    "pickle.dump(X_test, open('./data/X_test.pkl', 'wb'))\n",
    "pickle.dump(y_train, open('./data/y_train.pkl', 'wb'))\n",
    "pickle.dump(y_test, open('./data/y_test.pkl', 'wb'))"
   ]
  },
  {
   "cell_type": "code",
   "execution_count": null,
   "metadata": {},
   "outputs": [],
   "source": []
  }
 ],
 "metadata": {
  "kernelspec": {
   "display_name": "nnsdof",
   "language": "python",
   "name": "nnsdof"
  },
  "language_info": {
   "codemirror_mode": {
    "name": "ipython",
    "version": 3
   },
   "file_extension": ".py",
   "mimetype": "text/x-python",
   "name": "python",
   "nbconvert_exporter": "python",
   "pygments_lexer": "ipython3",
   "version": "3.6.7"
  },
  "varInspector": {
   "cols": {
    "lenName": 16,
    "lenType": 16,
    "lenVar": 40
   },
   "kernels_config": {
    "python": {
     "delete_cmd_postfix": "",
     "delete_cmd_prefix": "del ",
     "library": "var_list.py",
     "varRefreshCmd": "print(var_dic_list())"
    },
    "r": {
     "delete_cmd_postfix": ") ",
     "delete_cmd_prefix": "rm(",
     "library": "var_list.r",
     "varRefreshCmd": "cat(var_dic_list()) "
    }
   },
   "types_to_exclude": [
    "module",
    "function",
    "builtin_function_or_method",
    "instance",
    "_Feature"
   ],
   "window_display": false
  }
 },
 "nbformat": 4,
 "nbformat_minor": 2
}
