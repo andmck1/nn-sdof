{
 "cells": [
  {
   "cell_type": "markdown",
   "metadata": {},
   "source": [
    "## Imports"
   ]
  },
  {
   "cell_type": "code",
   "execution_count": 1,
   "metadata": {},
   "outputs": [],
   "source": [
    "import pickle\n",
    "import pathlib as pl"
   ]
  },
  {
   "cell_type": "code",
   "execution_count": 2,
   "metadata": {},
   "outputs": [],
   "source": [
    "import numpy as np\n",
    "import pandas as pd"
   ]
  },
  {
   "cell_type": "markdown",
   "metadata": {},
   "source": [
    "## Functions"
   ]
  },
  {
   "cell_type": "code",
   "execution_count": 3,
   "metadata": {},
   "outputs": [],
   "source": [
    "def walk_forward(df, x_labels, y_labels, n, n_input_labels, \n",
    "                 split_per=None, split_data=False, y_offset=0):\n",
    "    \n",
    "    td_shape = df.shape\n",
    "    td_l = td_shape[0]\n",
    "    \n",
    "    x_indices = [range(i, i+n) for i in range(td_l-n)]\n",
    "    y_indices = [range(i+y_offset, i+n) for i in range(td_l-n)]\n",
    "    \n",
    "    x = df.loc[:, x_labels].values[x_indices]\n",
    "    y = df.loc[:, y_labels].values[y_indices]\n",
    "    \n",
    "    if split_data:\n",
    "        split_index = int(len(x)*split_per)\n",
    "        x = x.reshape(-1, n, n_input_labels, 1)\n",
    "        y = y.reshape(-1, n-y_offset)\n",
    "        X_train, X_test, y_train, y_test = (x[:split_index], x[split_index:], y[:split_index], y[split_index:])\n",
    "        return X_train, X_test, y_train, y_test\n",
    "    \n",
    "    return x, y"
   ]
  },
  {
   "cell_type": "code",
   "execution_count": 4,
   "metadata": {},
   "outputs": [],
   "source": [
    "def batch_sequence_split(df, x_labels, y_labels, n, n_input_labels, split_index):\n",
    "    \n",
    "    X_train = df[x_labels].iloc[:split_index].values.reshape(-1, n, n_input_labels, 1)\n",
    "    X_test = df[x_labels].iloc[split_index:].values.reshape(-1, n, n_input_labels, 1)\n",
    "    y_train = df[y_labels].iloc[:split_index].values.reshape(-1, n)\n",
    "    y_test = df[y_labels].iloc[split_index:].values.reshape(-1, n)\n",
    "    \n",
    "    return X_train, X_test, y_train, y_test"
   ]
  },
  {
   "cell_type": "code",
   "execution_count": 5,
   "metadata": {},
   "outputs": [],
   "source": [
    "def offset_acceleration(df, n=100):\n",
    "    acc_cols = [x for x in df.columns if 'acc' in x]\n",
    "    delayed_acc = df[acc_cols][:len(df)-n]\n",
    "    delayed_acc = delayed_acc.rename({old:(old + '_delayed') for old in acc_cols}, axis=1)\n",
    "    return df.iloc[n:, :].reset_index(drop=True).join(delayed_acc)"
   ]
  },
  {
   "cell_type": "markdown",
   "metadata": {},
   "source": [
    "## Get Data"
   ]
  },
  {
   "cell_type": "code",
   "execution_count": 6,
   "metadata": {},
   "outputs": [],
   "source": [
    "# data = pickle.load(open('./data/data.pkl', 'rb'))"
   ]
  },
  {
   "cell_type": "code",
   "execution_count": 6,
   "metadata": {},
   "outputs": [],
   "source": [
    "data = pd.read_pickle('./data/sam/joined_data.pkl')"
   ]
  },
  {
   "cell_type": "code",
   "execution_count": 8,
   "metadata": {},
   "outputs": [
    {
     "data": {
      "text/html": [
       "<div>\n",
       "<style scoped>\n",
       "    .dataframe tbody tr th:only-of-type {\n",
       "        vertical-align: middle;\n",
       "    }\n",
       "\n",
       "    .dataframe tbody tr th {\n",
       "        vertical-align: top;\n",
       "    }\n",
       "\n",
       "    .dataframe thead th {\n",
       "        text-align: right;\n",
       "    }\n",
       "</style>\n",
       "<table border=\"1\" class=\"dataframe\">\n",
       "  <thead>\n",
       "    <tr style=\"text-align: right;\">\n",
       "      <th></th>\n",
       "      <th>exc_5noise</th>\n",
       "      <th>acc_test</th>\n",
       "      <th>exc_2noise</th>\n",
       "      <th>exc_3noise</th>\n",
       "      <th>exc_1noise</th>\n",
       "      <th>exc_0noise</th>\n",
       "      <th>exc_20noise</th>\n",
       "      <th>exc_30noise</th>\n",
       "      <th>exc</th>\n",
       "      <th>exc_10noise</th>\n",
       "      <th>acc</th>\n",
       "    </tr>\n",
       "  </thead>\n",
       "  <tbody>\n",
       "    <tr>\n",
       "      <th>0</th>\n",
       "      <td>0.236538</td>\n",
       "      <td>0.249363</td>\n",
       "      <td>0.255575</td>\n",
       "      <td>0.226719</td>\n",
       "      <td>0.223894</td>\n",
       "      <td>0.226107</td>\n",
       "      <td>0.366302</td>\n",
       "      <td>0.115219</td>\n",
       "      <td>-0.258322</td>\n",
       "      <td>0.236538</td>\n",
       "      <td>-0.321452</td>\n",
       "    </tr>\n",
       "    <tr>\n",
       "      <th>1</th>\n",
       "      <td>-0.063274</td>\n",
       "      <td>-0.073471</td>\n",
       "      <td>-0.043010</td>\n",
       "      <td>-0.070809</td>\n",
       "      <td>-0.076227</td>\n",
       "      <td>-0.076232</td>\n",
       "      <td>0.099010</td>\n",
       "      <td>-0.035880</td>\n",
       "      <td>-0.256361</td>\n",
       "      <td>-0.063274</td>\n",
       "      <td>-0.266683</td>\n",
       "    </tr>\n",
       "    <tr>\n",
       "      <th>2</th>\n",
       "      <td>0.141593</td>\n",
       "      <td>0.143289</td>\n",
       "      <td>0.158360</td>\n",
       "      <td>0.133242</td>\n",
       "      <td>0.130273</td>\n",
       "      <td>0.130466</td>\n",
       "      <td>0.239521</td>\n",
       "      <td>0.115698</td>\n",
       "      <td>0.061794</td>\n",
       "      <td>0.141593</td>\n",
       "      <td>0.057487</td>\n",
       "    </tr>\n",
       "    <tr>\n",
       "      <th>3</th>\n",
       "      <td>0.110416</td>\n",
       "      <td>0.095285</td>\n",
       "      <td>0.130844</td>\n",
       "      <td>0.101641</td>\n",
       "      <td>0.098399</td>\n",
       "      <td>0.099507</td>\n",
       "      <td>0.227559</td>\n",
       "      <td>0.073316</td>\n",
       "      <td>-0.406225</td>\n",
       "      <td>0.110416</td>\n",
       "      <td>-0.374379</td>\n",
       "    </tr>\n",
       "    <tr>\n",
       "      <th>4</th>\n",
       "      <td>-0.130217</td>\n",
       "      <td>-0.139960</td>\n",
       "      <td>-0.104979</td>\n",
       "      <td>-0.134769</td>\n",
       "      <td>-0.141432</td>\n",
       "      <td>-0.140754</td>\n",
       "      <td>0.011251</td>\n",
       "      <td>-0.092754</td>\n",
       "      <td>-0.092476</td>\n",
       "      <td>-0.130217</td>\n",
       "      <td>-0.032465</td>\n",
       "    </tr>\n",
       "  </tbody>\n",
       "</table>\n",
       "</div>"
      ],
      "text/plain": [
       "   exc_5noise  acc_test  exc_2noise  exc_3noise  exc_1noise  exc_0noise  \\\n",
       "0    0.236538  0.249363    0.255575    0.226719    0.223894    0.226107   \n",
       "1   -0.063274 -0.073471   -0.043010   -0.070809   -0.076227   -0.076232   \n",
       "2    0.141593  0.143289    0.158360    0.133242    0.130273    0.130466   \n",
       "3    0.110416  0.095285    0.130844    0.101641    0.098399    0.099507   \n",
       "4   -0.130217 -0.139960   -0.104979   -0.134769   -0.141432   -0.140754   \n",
       "\n",
       "   exc_20noise  exc_30noise       exc  exc_10noise       acc  \n",
       "0     0.366302     0.115219 -0.258322     0.236538 -0.321452  \n",
       "1     0.099010    -0.035880 -0.256361    -0.063274 -0.266683  \n",
       "2     0.239521     0.115698  0.061794     0.141593  0.057487  \n",
       "3     0.227559     0.073316 -0.406225     0.110416 -0.374379  \n",
       "4     0.011251    -0.092754 -0.092476    -0.130217 -0.032465  "
      ]
     },
     "execution_count": 8,
     "metadata": {},
     "output_type": "execute_result"
    }
   ],
   "source": [
    "data.head()"
   ]
  },
  {
   "cell_type": "code",
   "execution_count": 9,
   "metadata": {},
   "outputs": [
    {
     "data": {
      "text/plain": [
       "100000"
      ]
     },
     "execution_count": 9,
     "metadata": {},
     "output_type": "execute_result"
    }
   ],
   "source": [
    "len(data)"
   ]
  },
  {
   "cell_type": "markdown",
   "metadata": {},
   "source": [
    "## Preprocess"
   ]
  },
  {
   "cell_type": "code",
   "execution_count": 11,
   "metadata": {},
   "outputs": [],
   "source": [
    "# preproc_data = data.iloc[:100000, :]\n",
    "preproc_data = data\n",
    "preproc_data = offset_acceleration(preproc_data)"
   ]
  },
  {
   "cell_type": "code",
   "execution_count": 13,
   "metadata": {},
   "outputs": [
    {
     "data": {
      "text/html": [
       "<div>\n",
       "<style scoped>\n",
       "    .dataframe tbody tr th:only-of-type {\n",
       "        vertical-align: middle;\n",
       "    }\n",
       "\n",
       "    .dataframe tbody tr th {\n",
       "        vertical-align: top;\n",
       "    }\n",
       "\n",
       "    .dataframe thead th {\n",
       "        text-align: right;\n",
       "    }\n",
       "</style>\n",
       "<table border=\"1\" class=\"dataframe\">\n",
       "  <thead>\n",
       "    <tr style=\"text-align: right;\">\n",
       "      <th></th>\n",
       "      <th>exc_5noise</th>\n",
       "      <th>acc_test</th>\n",
       "      <th>exc_2noise</th>\n",
       "      <th>exc_3noise</th>\n",
       "      <th>exc_1noise</th>\n",
       "      <th>exc_0noise</th>\n",
       "      <th>exc_20noise</th>\n",
       "      <th>exc_30noise</th>\n",
       "      <th>exc</th>\n",
       "      <th>exc_10noise</th>\n",
       "      <th>acc</th>\n",
       "      <th>acc_test_delayed</th>\n",
       "      <th>acc_delayed</th>\n",
       "    </tr>\n",
       "  </thead>\n",
       "  <tbody>\n",
       "    <tr>\n",
       "      <th>0</th>\n",
       "      <td>0.180216</td>\n",
       "      <td>0.103993</td>\n",
       "      <td>0.196273</td>\n",
       "      <td>0.166338</td>\n",
       "      <td>0.165389</td>\n",
       "      <td>0.167413</td>\n",
       "      <td>0.272335</td>\n",
       "      <td>0.105922</td>\n",
       "      <td>0.019063</td>\n",
       "      <td>0.180216</td>\n",
       "      <td>-0.029829</td>\n",
       "      <td>0.249363</td>\n",
       "      <td>-0.321452</td>\n",
       "    </tr>\n",
       "    <tr>\n",
       "      <th>1</th>\n",
       "      <td>0.237776</td>\n",
       "      <td>0.147726</td>\n",
       "      <td>0.253809</td>\n",
       "      <td>0.228406</td>\n",
       "      <td>0.224434</td>\n",
       "      <td>0.228757</td>\n",
       "      <td>0.327380</td>\n",
       "      <td>0.147517</td>\n",
       "      <td>0.385786</td>\n",
       "      <td>0.237776</td>\n",
       "      <td>0.291223</td>\n",
       "      <td>-0.073471</td>\n",
       "      <td>-0.266683</td>\n",
       "    </tr>\n",
       "    <tr>\n",
       "      <th>2</th>\n",
       "      <td>-0.084718</td>\n",
       "      <td>-0.191789</td>\n",
       "      <td>-0.074569</td>\n",
       "      <td>-0.108948</td>\n",
       "      <td>-0.108562</td>\n",
       "      <td>-0.109280</td>\n",
       "      <td>0.019878</td>\n",
       "      <td>-0.080495</td>\n",
       "      <td>0.185781</td>\n",
       "      <td>-0.084718</td>\n",
       "      <td>0.049348</td>\n",
       "      <td>0.143289</td>\n",
       "      <td>0.057487</td>\n",
       "    </tr>\n",
       "    <tr>\n",
       "      <th>3</th>\n",
       "      <td>-0.000339</td>\n",
       "      <td>-0.058572</td>\n",
       "      <td>0.019585</td>\n",
       "      <td>-0.009102</td>\n",
       "      <td>-0.013938</td>\n",
       "      <td>-0.013581</td>\n",
       "      <td>0.131675</td>\n",
       "      <td>-0.003485</td>\n",
       "      <td>0.249846</td>\n",
       "      <td>-0.000339</td>\n",
       "      <td>0.086298</td>\n",
       "      <td>0.095285</td>\n",
       "      <td>-0.374379</td>\n",
       "    </tr>\n",
       "    <tr>\n",
       "      <th>4</th>\n",
       "      <td>0.186426</td>\n",
       "      <td>0.142308</td>\n",
       "      <td>0.205310</td>\n",
       "      <td>0.168084</td>\n",
       "      <td>0.179850</td>\n",
       "      <td>0.181015</td>\n",
       "      <td>0.290906</td>\n",
       "      <td>0.092922</td>\n",
       "      <td>-0.037129</td>\n",
       "      <td>0.186426</td>\n",
       "      <td>-0.194077</td>\n",
       "      <td>-0.139960</td>\n",
       "      <td>-0.032465</td>\n",
       "    </tr>\n",
       "  </tbody>\n",
       "</table>\n",
       "</div>"
      ],
      "text/plain": [
       "   exc_5noise  acc_test  exc_2noise  exc_3noise  exc_1noise  exc_0noise  \\\n",
       "0    0.180216  0.103993    0.196273    0.166338    0.165389    0.167413   \n",
       "1    0.237776  0.147726    0.253809    0.228406    0.224434    0.228757   \n",
       "2   -0.084718 -0.191789   -0.074569   -0.108948   -0.108562   -0.109280   \n",
       "3   -0.000339 -0.058572    0.019585   -0.009102   -0.013938   -0.013581   \n",
       "4    0.186426  0.142308    0.205310    0.168084    0.179850    0.181015   \n",
       "\n",
       "   exc_20noise  exc_30noise       exc  exc_10noise       acc  \\\n",
       "0     0.272335     0.105922  0.019063     0.180216 -0.029829   \n",
       "1     0.327380     0.147517  0.385786     0.237776  0.291223   \n",
       "2     0.019878    -0.080495  0.185781    -0.084718  0.049348   \n",
       "3     0.131675    -0.003485  0.249846    -0.000339  0.086298   \n",
       "4     0.290906     0.092922 -0.037129     0.186426 -0.194077   \n",
       "\n",
       "   acc_test_delayed  acc_delayed  \n",
       "0          0.249363    -0.321452  \n",
       "1         -0.073471    -0.266683  \n",
       "2          0.143289     0.057487  \n",
       "3          0.095285    -0.374379  \n",
       "4         -0.139960    -0.032465  "
      ]
     },
     "execution_count": 13,
     "metadata": {},
     "output_type": "execute_result"
    }
   ],
   "source": [
    "preproc_data.head()"
   ]
  },
  {
   "cell_type": "code",
   "execution_count": 14,
   "metadata": {},
   "outputs": [],
   "source": [
    "# Some config parameters\n",
    "data_shape = preproc_data.shape\n",
    "td_l = data_shape[0]\n",
    "\n",
    "x_labels = ['exc', 'acc_delayed']\n",
    "y_labels = ['acc']\n",
    "\n",
    "n = 100\n",
    "n_input_labels = len(x_labels)\n",
    "y_offset = 1\n",
    "train_percentage = 0.7\n",
    "length_train_data = len(data_shape)\n",
    "split_index = int(length_train_data*train_percentage)"
   ]
  },
  {
   "cell_type": "code",
   "execution_count": 15,
   "metadata": {},
   "outputs": [],
   "source": [
    "X_train, X_test, y_train, y_test = walk_forward(preproc_data, \n",
    "                                                x_labels, y_labels, \n",
    "                                                n, n_input_labels, y_offset=y_offset,\n",
    "                                                split_per=0.7, split_data=True)"
   ]
  },
  {
   "cell_type": "code",
   "execution_count": 16,
   "metadata": {},
   "outputs": [],
   "source": [
    "pickle.dump(X_train, open('./data/X_train.pkl', 'wb'))\n",
    "pickle.dump(X_test, open('./data/X_test.pkl', 'wb'))\n",
    "pickle.dump(y_train, open('./data/y_train.pkl', 'wb'))\n",
    "pickle.dump(y_test, open('./data/y_test.pkl', 'wb'))"
   ]
  },
  {
   "cell_type": "code",
   "execution_count": null,
   "metadata": {},
   "outputs": [],
   "source": []
  }
 ],
 "metadata": {
  "kernelspec": {
   "display_name": "nn-sdof",
   "language": "python",
   "name": "nn-sdof"
  },
  "language_info": {
   "codemirror_mode": {
    "name": "ipython",
    "version": 3
   },
   "file_extension": ".py",
   "mimetype": "text/x-python",
   "name": "python",
   "nbconvert_exporter": "python",
   "pygments_lexer": "ipython3",
   "version": "3.8.2"
  },
  "varInspector": {
   "cols": {
    "lenName": 16,
    "lenType": 16,
    "lenVar": 40
   },
   "kernels_config": {
    "python": {
     "delete_cmd_postfix": "",
     "delete_cmd_prefix": "del ",
     "library": "var_list.py",
     "varRefreshCmd": "print(var_dic_list())"
    },
    "r": {
     "delete_cmd_postfix": ") ",
     "delete_cmd_prefix": "rm(",
     "library": "var_list.r",
     "varRefreshCmd": "cat(var_dic_list()) "
    }
   },
   "types_to_exclude": [
    "module",
    "function",
    "builtin_function_or_method",
    "instance",
    "_Feature"
   ],
   "window_display": false
  }
 },
 "nbformat": 4,
 "nbformat_minor": 4
}
